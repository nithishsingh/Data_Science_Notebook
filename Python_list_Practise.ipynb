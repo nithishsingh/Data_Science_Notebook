{
 "cells": [
  {
   "cell_type": "code",
   "execution_count": 7,
   "metadata": {},
   "outputs": [
    {
     "name": "stdout",
     "output_type": "stream",
     "text": [
      "<class 'list'>\n"
     ]
    },
    {
     "data": {
      "text/plain": [
       "[4, 5]"
      ]
     },
     "execution_count": 7,
     "metadata": {},
     "output_type": "execute_result"
    }
   ],
   "source": [
    "def get_common(input_list_1, input_list_2):\n",
    "    \n",
    "    ge = [i for i in input_list_1 if i in input_list_2]\n",
    "    print(type(ge))\n",
    "    return ge\n",
    "\n",
    "input_list_1 =[1,2,3,4,5]\n",
    "input_list_2 = [4,5,6,7,8]\n",
    "get_common(input_list_1, input_list_2)"
   ]
  },
  {
   "cell_type": "code",
   "execution_count": 9,
   "metadata": {},
   "outputs": [
    {
     "name": "stdout",
     "output_type": "stream",
     "text": [
      "<class 'list'>\n"
     ]
    },
    {
     "data": {
      "text/plain": [
       "[4, 5]"
      ]
     },
     "execution_count": 9,
     "metadata": {},
     "output_type": "execute_result"
    }
   ],
   "source": [
    "def get_common(input_list_1, input_list_2):\n",
    "    common_items = []\n",
    "    for item in input_list_1:\n",
    "        if item in input_list_2:\n",
    "            common_items.append(item)\n",
    "\n",
    "    print(type(common_items))\n",
    "    return common_items\n",
    "\n",
    "get_common(input_list_1, input_list_2)"
   ]
  },
  {
   "cell_type": "code",
   "execution_count": 13,
   "metadata": {},
   "outputs": [
    {
     "data": {
      "text/plain": [
       "[1, 2, 3, 6, 6, 7, 8, 32, 45, 54]"
      ]
     },
     "execution_count": 13,
     "metadata": {},
     "output_type": "execute_result"
    }
   ],
   "source": [
    "def sort_alphabets(input_list):\n",
    "    return sorted(input_list)\n",
    "\n",
    "input_list = [8,7,6,54,3,32,45,6,2,1]\n",
    "sort_alphabets(input_list)"
   ]
  },
  {
   "cell_type": "code",
   "execution_count": null,
   "metadata": {},
   "outputs": [],
   "source": []
  }
 ],
 "metadata": {
  "kernelspec": {
   "display_name": "Data",
   "language": "python",
   "name": "python3"
  },
  "language_info": {
   "codemirror_mode": {
    "name": "ipython",
    "version": 3
   },
   "file_extension": ".py",
   "mimetype": "text/x-python",
   "name": "python",
   "nbconvert_exporter": "python",
   "pygments_lexer": "ipython3",
   "version": "3.11.4"
  },
  "orig_nbformat": 4
 },
 "nbformat": 4,
 "nbformat_minor": 2
}
